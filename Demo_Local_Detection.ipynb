{
 "cells": [
  {
   "cell_type": "code",
   "execution_count": 3,
   "metadata": {},
   "outputs": [],
   "source": [
    "%load_ext autoreload\n",
    "%autoreload 2"
   ]
  },
  {
   "cell_type": "code",
   "execution_count": 2,
   "metadata": {},
   "outputs": [
    {
     "name": "stdout",
     "output_type": "stream",
     "text": [
      "You are not on Google Colab. Check if current directory ok\n",
      "Current folder is OK : https://github.com/PhileasFrog/tiresias_det.git\n"
     ]
    }
   ],
   "source": [
    "# check if notebook is in the right directory if local or get repo if colab\n",
    "\n",
    "import subprocess\n",
    "\n",
    "GIT_NAME = 'tiresias_det'\n",
    "GIT_URL = 'https://github.com/PhileasFrog/tiresias_det.git'\n",
    "\n",
    "def is_git_repo_with_remote():\n",
    "    try:\n",
    "        # check if current direzctory is a git repo\n",
    "        subprocess.check_output([\"git\", \"rev-parse\", \"--is-inside-work-tree\"])\n",
    "        # get distant git url\n",
    "        remote_url = subprocess.check_output([\"git\", \"config\", \"--get\", \"remote.origin.url\"]).decode(\"utf-8\").strip()\n",
    "        if remote_url:\n",
    "            return True, remote_url\n",
    "        else:\n",
    "            return False, None\n",
    "    except subprocess.CalledProcessError:\n",
    "        return False, None\n",
    "\n",
    "\n",
    "def setup_notebook_colab(git_name: str, git_url: str):\n",
    "    # install dependencies: (use cu111 because colab has CUDA 11.1)\n",
    "    %pip install -U openmim\n",
    "    !mim install \"mmengine>=0.7.0\"\n",
    "    !mim install \"mmcv>=2.0.0rc4\"\n",
    "    colab_folder = '/content/' + git_name\n",
    "    !rm -rf $colab_folder\n",
    "    print(f\"Remove folder {git_name}\")\n",
    "    !git clone $git_url\n",
    "    print(f\"Cloned Git repository from {git_url}\")\n",
    "    %cd $git_name\n",
    "    print(f\"Current directory is {colab_folder}\")\n",
    "    print(\"Install dependecies\")\n",
    "    %pip install -e .\n",
    "    print(\"Download model\")\n",
    "    !mim download mmdet --config rtmdet_tiny_8xb32-300e_coco --dest ./checkpoints\n",
    "    !mim download mmdet --config yolox_tiny_8x8_300e_coco --dest ./checkpoints\n",
    "    !mim download mmdet --config ssd512_coco --dest ./checkpoints\n",
    "    !mim download mmdet --config faster-rcnn_r50_fpn_1x_coco --dest ./checkpoints\n",
    "\n",
    "\n",
    "def check_notebook_local(git_url: str):\n",
    "      is_remote, remote_url = is_git_repo_with_remote()\n",
    "      if not is_remote:\n",
    "          assert False, 'The current directory is not a remote Git repository.'\n",
    "      if remote_url.startswith('git@github.com:'):\n",
    "          remote_url = remote_url.replace('git@github.com:', 'https://github.com/')\n",
    "      if is_remote and remote_url == git_url:\n",
    "          print(f\"Current folder is OK : {remote_url}\")\n",
    "      else:\n",
    "          assert False, f'The current directory is not the correct remote Git repository. {remote_url} instead of {git_url}'\n",
    "\n",
    "def launch_notebook(git_name: str, git_url: str):\n",
    "    try:\n",
    "        # clone git if notebook running on colab\n",
    "        import google.colab\n",
    "        ON_COLAB = True\n",
    "        print(\"You are on Google Colab.\")\n",
    "        setup_notebook_colab(git_name=git_name, git_url=git_url)\n",
    "    except:\n",
    "        ON_COLAB = False\n",
    "        print(\"You are not on Google Colab. Check if current directory ok\")\n",
    "        check_notebook_local(git_url=git_url)\n",
    "    return ON_COLAB\n",
    "\n",
    "ON_COLAB = launch_notebook(git_name=GIT_NAME, git_url=GIT_URL)"
   ]
  },
  {
   "cell_type": "code",
   "execution_count": null,
   "metadata": {},
   "outputs": [],
   "source": []
  }
 ],
 "metadata": {
  "kernelspec": {
   "display_name": "open-mmlab",
   "language": "python",
   "name": "python3"
  },
  "language_info": {
   "codemirror_mode": {
    "name": "ipython",
    "version": 3
   },
   "file_extension": ".py",
   "mimetype": "text/x-python",
   "name": "python",
   "nbconvert_exporter": "python",
   "pygments_lexer": "ipython3",
   "version": "3.8.17"
  },
  "orig_nbformat": 4
 },
 "nbformat": 4,
 "nbformat_minor": 2
}
